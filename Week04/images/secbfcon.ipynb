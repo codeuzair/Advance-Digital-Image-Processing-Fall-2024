{
 "cells": [
  {
   "cell_type": "code",
   "execution_count": 4,
   "metadata": {},
   "outputs": [],
   "source": [
    "import cv2\n",
    "import numpy as np"
   ]
  },
  {
   "cell_type": "code",
   "execution_count": 16,
   "metadata": {},
   "outputs": [],
   "source": [
    "img=cv2.imread(\"Fig0335(a)(ckt_board_saltpep_prob_pt05).tif\", 0)"
   ]
  },
  {
   "cell_type": "code",
   "execution_count": 14,
   "metadata": {},
   "outputs": [],
   "source": [
    "imgout=np.zeros_like(img)\n",
    "\n",
    "avgf=np.array([[1,2, 1],[2, 4, 2],[1,2,2]])\n",
    "\n",
    "for i in range(1, img.shape[0]-1):\n",
    "    for j in range(1, img.shape[1]-1):\n",
    "\n",
    "        avgv=np.sum(avgf*img[i-1:i+2, j-1:j+2])/16\n",
    "        imgout[i, j]=avgv\n",
    "\n"
   ]
  },
  {
   "cell_type": "code",
   "execution_count": 18,
   "metadata": {},
   "outputs": [],
   "source": [
    "imgout=np.zeros_like(img)\n",
    "\n",
    "#avgf=np.array([[1,2, 1],[2, 4, 2],[1,2,2]])\n",
    "\n",
    "for i in range(1, img.shape[0]-1):\n",
    "    for j in range(1, img.shape[1]-1):\n",
    "\n",
    "        avgv=np.sort(img[i-1:i+2, j-1:j+2].flatten())\n",
    "        imgout[i, j]=avgv[5]\n"
   ]
  },
  {
   "cell_type": "code",
   "execution_count": 19,
   "metadata": {},
   "outputs": [],
   "source": [
    "cv2.imshow('original', img)\n",
    "cv2.imshow('output image', imgout)\n",
    "cv2.waitKey(0)\n",
    "cv2.destroyAllWindows()"
   ]
  },
  {
   "cell_type": "code",
   "execution_count": null,
   "metadata": {},
   "outputs": [],
   "source": []
  }
 ],
 "metadata": {
  "kernelspec": {
   "display_name": "imageenv",
   "language": "python",
   "name": "python3"
  },
  "language_info": {
   "codemirror_mode": {
    "name": "ipython",
    "version": 3
   },
   "file_extension": ".py",
   "mimetype": "text/x-python",
   "name": "python",
   "nbconvert_exporter": "python",
   "pygments_lexer": "ipython3",
   "version": "3.8.18"
  }
 },
 "nbformat": 4,
 "nbformat_minor": 2
}
